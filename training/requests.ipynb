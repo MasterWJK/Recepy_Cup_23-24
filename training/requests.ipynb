{
 "cells": [
  {
   "cell_type": "markdown",
   "metadata": {},
   "source": [
    "### requests.csv\n",
    "\n",
    "Overview of each column in the `requests.csv` dataset -> What it should be.\n",
    "\n",
    "| Column | Data Type | Description |\n",
    "| --- | --- | --- |\n",
    "| `AuthorId` | String | The unique identifier of a user. |\n",
    "| `RecipeId` | String | The unique identifier of a recipe. |\n",
    "| `Time` | Integer/double | The maximum duration a recipe should take, including preparation and cooking time. |\n",
    "| `HighCalories` | Boolean | A flag indicating whether the resulting meal/beverage should have a high number of calories. |\n",
    "| `LowFat` | Boolean | A flag indicating whether the resulting meal/beverage should include a low amount of fat. |\n",
    "| `HighProtein` | Boolean | A flag indicating whether the resulting meal/beverage should have a high amount of proteins. |\n",
    "| `LowSugar` | Boolean | A flag indicating whether the resulting meal/beverage should have low sugar. |\n",
    "| `HighFiber` | Boolean | A flag indicating whether the resulting meal/beverage should have high fiber. |"
   ]
  },
  {
   "cell_type": "code",
   "execution_count": 30,
   "metadata": {},
   "outputs": [
    {
     "name": "stdout",
     "output_type": "stream",
     "text": [
      "      AuthorId  RecipeId          Time  HighCalories  HighProtein  LowFat   \n",
      "0  2001012259B     73440   1799.950949           0.0  Indifferent       0  \\\n",
      "1      437641B    365718   4201.820980           0.0          Yes       0   \n",
      "2  1803340263D    141757   6299.861496           0.0  Indifferent       1   \n",
      "3      854048B    280351  19801.365796           0.0          Yes       1   \n",
      "4     2277685E    180505   5400.093457           0.0  Indifferent       0   \n",
      "5  2002463647E    350271   1500.690672           0.0  Indifferent       0   \n",
      "6      181611B     21518   3901.461811           1.0  Indifferent       0   \n",
      "7       63028B    137143   2699.849907           0.0  Indifferent       0   \n",
      "\n",
      "      LowSugar  HighFiber  \n",
      "0            0          0  \n",
      "1  Indifferent          1  \n",
      "2  Indifferent          0  \n",
      "3            0          1  \n",
      "4            0          0  \n",
      "5            0          0  \n",
      "6  Indifferent          1  \n",
      "7  Indifferent          0  \n"
     ]
    }
   ],
   "source": [
    "import pandas as pd\n",
    "\n",
    "# read csv file\n",
    "df = pd.read_csv('requests.csv')\n",
    "\n",
    "# print first 10 rows\n",
    "print(df.head(8))"
   ]
  },
  {
   "cell_type": "markdown",
   "metadata": {},
   "source": [
    "Checking for Null Values in a Dataset"
   ]
  },
  {
   "cell_type": "code",
   "execution_count": 46,
   "metadata": {},
   "outputs": [
    {
     "name": "stdout",
     "output_type": "stream",
     "text": [
      "Total number of rows and columns: \n",
      "(140195, 9)\n",
      "NA values: \n",
      "AuthorId               False\n",
      "RecipeId               False\n",
      "Time                   False\n",
      "HighCalories           False\n",
      "HighProtein            False\n",
      "LowFat                 False\n",
      "LowSugar               False\n",
      "HighFiber              False\n",
      "HighProteinAndFiber    False\n",
      "dtype: bool\n",
      "Null values: \n",
      "AuthorId               0\n",
      "RecipeId               0\n",
      "Time                   0\n",
      "HighCalories           0\n",
      "HighProtein            0\n",
      "LowFat                 0\n",
      "LowSugar               0\n",
      "HighFiber              0\n",
      "HighProteinAndFiber    0\n",
      "dtype: int64\n",
      "Duplicate values: \n",
      "0\n",
      "<class 'pandas.core.frame.DataFrame'>\n",
      "RangeIndex: 140195 entries, 0 to 140194\n",
      "Data columns (total 9 columns):\n",
      " #   Column               Non-Null Count   Dtype  \n",
      "---  ------               --------------   -----  \n",
      " 0   AuthorId             140195 non-null  int64  \n",
      " 1   RecipeId             140195 non-null  int64  \n",
      " 2   Time                 140195 non-null  float64\n",
      " 3   HighCalories         140195 non-null  bool   \n",
      " 4   HighProtein          140195 non-null  bool   \n",
      " 5   LowFat               140195 non-null  bool   \n",
      " 6   LowSugar             140195 non-null  bool   \n",
      " 7   HighFiber            140195 non-null  bool   \n",
      " 8   HighProteinAndFiber  140195 non-null  bool   \n",
      "dtypes: bool(6), float64(1), int64(2)\n",
      "memory usage: 4.0 MB\n",
      "None\n"
     ]
    }
   ],
   "source": [
    "# total number of rows and columns\n",
    "print(\"Total number of rows and columns: \")\n",
    "print(df.shape)\n",
    "\n",
    "# check for NA values\n",
    "print(\"NA values: \")\n",
    "print(df.isna().any())\n",
    "\n",
    "# check for null values\n",
    "print(\"Null values: \")\n",
    "print(df.isnull().sum())\n",
    "\n",
    "# check for duplicates\n",
    "print(\"Duplicate values: \")\n",
    "print(df.duplicated().sum())\n",
    "\n",
    "print(df.info())"
   ]
  },
  {
   "cell_type": "markdown",
   "metadata": {},
   "source": [
    "1. **Data Cleaning**\n",
    "    - Check for any missing or inconsistent data.\n",
    "    - Ensure that all flags are either 0 or 1 and not any other numeric value.\n",
    "    - Decide whether to impute missing values or drop the records.\n",
    "\n",
    "2. **Type Conversion**\n",
    "    - Ensure that all data types are correct according to the description.\n",
    "    - Convert flags like `HighCalories`, `LowFat`, `HighProtein`, `LowSugar`, and `HighFiber` to numeric if they are not."
   ]
  },
  {
   "cell_type": "code",
   "execution_count": 32,
   "metadata": {},
   "outputs": [
    {
     "name": "stdout",
     "output_type": "stream",
     "text": [
      "      AuthorId  RecipeId          Time  HighCalories  HighProtein  LowFat   \n",
      "0  2001012259B     73440   1799.950949         False        False   False  \\\n",
      "1      437641B    365718   4201.820980         False         True   False   \n",
      "2  1803340263D    141757   6299.861496         False        False    True   \n",
      "3      854048B    280351  19801.365796         False         True    True   \n",
      "4     2277685E    180505   5400.093457         False        False   False   \n",
      "5  2002463647E    350271   1500.690672         False        False   False   \n",
      "6      181611B     21518   3901.461811          True        False   False   \n",
      "7       63028B    137143   2699.849907         False        False   False   \n",
      "\n",
      "   LowSugar  HighFiber  \n",
      "0      True      False  \n",
      "1     False       True  \n",
      "2     False      False  \n",
      "3      True       True  \n",
      "4      True      False  \n",
      "5      True      False  \n",
      "6     False       True  \n",
      "7     False      False  \n"
     ]
    }
   ],
   "source": [
    "# HighCalories is a 1.0 and 0.0, change to: true for it should have high calories and false for low calories.\n",
    "\n",
    "df['HighCalories'] = df['HighCalories'].astype(bool)\n",
    "\n",
    "# HighProtein is Indifferent and Yes, change to: true for it should have high protein and false for low protein.\n",
    "\n",
    "df['HighProtein'] = df['HighProtein'].replace({'Indifferent': False, 'Yes': True})\n",
    "\n",
    "# LowFat is a 1 and 0, change to: true for it should have low fat and false for high fat.\n",
    "\n",
    "df['LowFat'] = df['LowFat'].astype(bool)\n",
    "\n",
    "# LowSugar is Indifferent and 0, change to: true for it should have low sugar and false for high sugar.\n",
    "\n",
    "df['LowSugar'] = df['LowSugar'].replace({'Indifferent': False, '0': True})\n",
    "\n",
    "# HighFiber is 1 and 0, change to: true for it should have high fiber and false for low fiber.\n",
    "\n",
    "df['HighFiber'] = df['HighFiber'].astype(bool)\n",
    "\n",
    "print(df.head(8))"
   ]
  },
  {
   "cell_type": "markdown",
   "metadata": {},
   "source": [
    "\n",
    "3. **Outlier Detection**\n",
    "    - For the `Time` column, check for any outliers, such as extremely high values.\n",
    "    - Decide whether to cap, transform, or remove these outliers."
   ]
  },
  {
   "cell_type": "code",
   "execution_count": 33,
   "metadata": {},
   "outputs": [
    {
     "name": "stdout",
     "output_type": "stream",
     "text": [
      "Outliers in 'Time' column:\n",
      "           AuthorId  RecipeId           Time  HighCalories  HighProtein   \n",
      "3           854048B    280351   19801.365796         False         True  \\\n",
      "19         1234111D    461793   92700.327874         False        False   \n",
      "32          149748B     28148   14699.160888         False         True   \n",
      "39          891885A    381726  605101.127650         False        False   \n",
      "57          394643C     36267   11101.909182         False         True   \n",
      "...             ...       ...            ...           ...          ...   \n",
      "140142      691726B     24048   22200.102519          True        False   \n",
      "140168       53808E     38578    9300.985037         False         True   \n",
      "140173  2000518445A     70646   22499.672059         False         True   \n",
      "140178     1399607A     45809   14399.381563          True        False   \n",
      "140181     1677720D    253577   71998.977353         False        False   \n",
      "\n",
      "        LowFat  LowSugar  HighFiber  \n",
      "3         True      True       True  \n",
      "19       False      True      False  \n",
      "32        True      True       True  \n",
      "39       False      True      False  \n",
      "57        True      True      False  \n",
      "...        ...       ...        ...  \n",
      "140142   False     False       True  \n",
      "140168    True      True       True  \n",
      "140173    True      True      False  \n",
      "140178   False     False      False  \n",
      "140181    True     False       True  \n",
      "\n",
      "[13758 rows x 8 columns]\n",
      "Number of outliers in 'Time' column:\n",
      "13758\n",
      "Percentage of outliers in 'Time' column:\n",
      "9.81347408966083\n"
     ]
    }
   ],
   "source": [
    "import numpy as np\n",
    "\n",
    "def detect_outliers_iqr(data, column, threshold=1.5):\n",
    "    \"\"\"\n",
    "    Parameters:\n",
    "    - data (DataFrame): The input DataFrame.\n",
    "    - column (str): The name of the column to detect outliers in.\n",
    "    - threshold (int): The number of interquartile ranges above the third quartile\n",
    "\n",
    "    Returns:\n",
    "    - outliers (DataFrame): A DataFrame containing the outliers found in the specified column.\n",
    "\n",
    "    The quartiles could be modified to set a different threshold for outliers detection.\n",
    "    For example, to detect outliers that are 3 times the interquartile range below the first quartile\n",
    "    \"\"\"\n",
    "    # Calculate Q1, Q3 and IQR\n",
    "    q1 = np.percentile(data[column], 25)\n",
    "    q3 = np.percentile(data[column], 75)\n",
    "    iqr = q3 - q1\n",
    "    lower_bound = q1 - threshold * iqr\n",
    "    upper_bound = q3 + threshold * iqr\n",
    "    # outlier is below the lower bound or above the upper bound\n",
    "    outliers = data[(data[column] < lower_bound) | (data[column] > upper_bound)]\n",
    "    return outliers\n",
    "\n",
    "# Detect outliers for the 'Time' column\n",
    "outliers_time = detect_outliers_iqr(df, 'Time')\n",
    "print(\"Outliers in 'Time' column:\")\n",
    "print(outliers_time)\n",
    "\n",
    "# how many outliers are there?\n",
    "print(\"Number of outliers in 'Time' column:\")\n",
    "print(len(outliers_time))\n",
    "# how much compared to the total number of rows?\n",
    "print(\"Percentage of outliers in 'Time' column:\")\n",
    "print(len(outliers_time) / len(df) * 100)\n",
    "\n",
    "# Detect outliers for other columns\n",
    "# Replace 'column_name' with the actual column names\n",
    "# outliers_column = detect_outliers_iqr(df, 'column_name')\n",
    "# print(\"Outliers in 'column_name' column:\")\n",
    "# print(outliers_column) "
   ]
  },
  {
   "cell_type": "markdown",
   "metadata": {},
   "source": [
    "4. **Feature Engineering**\n",
    "    - Create new features that might be relevant to the prediction.\n",
    "    - For example, create a feature that indicates whether a meal is high in both protein and fiber."
   ]
  },
  {
   "cell_type": "code",
   "execution_count": 52,
   "metadata": {},
   "outputs": [
    {
     "data": {
      "image/png": "[encoded data removed]",
      "text/plain": [
       "<Figure size 640x480 with 1 Axes>"
      ]
     },
     "metadata": {},
     "output_type": "display_data"
    },
    {
     "name": "stdout",
     "output_type": "stream",
     "text": [
      "   AuthorId  RecipeId      Time  HighCalories  HighProtein  LowFat  LowSugar   \n",
      "0     18621     19482  0.000104         False        False   False      True  \\\n",
      "1     39673     65072  0.000243         False         True   False     False   \n",
      "2     12422     34512  0.000365         False        False    True     False   \n",
      "3     47179     55433  0.001146         False         True    True      True   \n",
      "4     31110     41089  0.000313         False        False   False      True   \n",
      "5     27146     63565  0.000087         False        False   False      True   \n",
      "6     13080      5445  0.000226          True        False   False     False   \n",
      "7     43562     33611  0.000156         False        False   False     False   \n",
      "\n",
      "   HighFiber  HighProteinAndFiber  HighProteinAndLowFat   \n",
      "0      False                False                 False  \\\n",
      "1       True                 True                 False   \n",
      "2      False                False                 False   \n",
      "3       True                 True                  True   \n",
      "4      False                False                 False   \n",
      "5      False                False                 False   \n",
      "6       True                False                 False   \n",
      "7      False                False                 False   \n",
      "\n",
      "   HighProteinAndLowSugar  \n",
      "0                   False  \n",
      "1                   False  \n",
      "2                   False  \n",
      "3                    True  \n",
      "4                   False  \n",
      "5                   False  \n",
      "6                   False  \n",
      "7                   False  \n"
     ]
    }
   ],
   "source": [
    "df['HighProteinAndFiber'] = (df['HighProtein'] & df['HighFiber']).astype(bool)\n",
    "# for HighProtein LowFat\n",
    "df['HighProteinAndLowFat'] = (df['HighProtein'] & df['LowFat']).astype(bool)\n",
    "# for HighProtein LowSugar\n",
    "df['HighProteinAndLowSugar'] = (df['HighProtein'] & df['LowSugar']).astype(bool)\n",
    "\n",
    "# show it graphically\n",
    "import matplotlib.pyplot as plt\n",
    "import seaborn as sns\n",
    "\n",
    "# set the background style of the plot\n",
    "sns.set_style('whitegrid')\n",
    "\n",
    "# plot the count of each value in the 'HighCalories' column\n",
    "sns.countplot(x='HighCalories', data=df)\n",
    "plt.show()\n",
    "\n",
    "# sjo\n",
    "\n",
    "print(df.head(8))"
   ]
  },
  {
   "cell_type": "markdown",
   "metadata": {},
   "source": [
    "5. **Normalization**\n",
    "    - If you're going to use a machine learning algorithm that is sensitive to the scale of the features (like SVM or KNN), normalize numerical features like `Time`."
   ]
  },
  {
   "cell_type": "code",
   "execution_count": 35,
   "metadata": {},
   "outputs": [
    {
     "name": "stdout",
     "output_type": "stream",
     "text": [
      "      AuthorId  RecipeId      Time  HighCalories  HighProtein  LowFat   \n",
      "0  2001012259B     73440  0.000104         False        False   False  \\\n",
      "1      437641B    365718  0.000243         False         True   False   \n",
      "2  1803340263D    141757  0.000365         False        False    True   \n",
      "3      854048B    280351  0.001146         False         True    True   \n",
      "4     2277685E    180505  0.000313         False        False   False   \n",
      "5  2002463647E    350271  0.000087         False        False   False   \n",
      "6      181611B     21518  0.000226          True        False   False   \n",
      "7       63028B    137143  0.000156         False        False   False   \n",
      "\n",
      "   LowSugar  HighFiber  HighProteinAndFiber  \n",
      "0      True      False                    0  \n",
      "1     False       True                    1  \n",
      "2     False      False                    0  \n",
      "3      True       True                    1  \n",
      "4      True      False                    0  \n",
      "5      True      False                    0  \n",
      "6     False       True                    0  \n",
      "7     False      False                    0  \n"
     ]
    }
   ],
   "source": [
    "from sklearn.preprocessing import MinMaxScaler\n",
    "\n",
    "# Create an instance of MinMaxScaler\n",
    "scaler = MinMaxScaler()\n",
    "\n",
    "# Normalize the 'Time' column\n",
    "df['Time'] = scaler.fit_transform(df[['Time']])\n",
    "\n",
    "print(df.head(8))"
   ]
  },
  {
   "cell_type": "markdown",
   "metadata": {},
   "source": [
    "6. **One-Hot Encoding**\n",
    "    - If you're going to use a machine learning algorithm that is sensitive to the scale of the features (like SVM or KNN), normalize numerical features like `Time`.\n",
    "\n",
    "7. **Feature Selection**\n",
    "    - Decide which features to keep and which to drop.\n",
    "    - For example, if you have a feature that is highly correlated with another feature, you might want to drop one of them."
   ]
  },
  {
   "cell_type": "code",
   "execution_count": 47,
   "metadata": {},
   "outputs": [],
   "source": [
    "# from sklearn.preprocessing import LabelEncoder\n",
    "# # before feature engineering you need to convert categorical variables to numerical variables\n",
    "\n",
    "# # convert categorical variables to numerical variables\n",
    "# # Create an instance of LabelEncoder\n",
    "# label_encoder = LabelEncoder()\n",
    "\n",
    "# # Convert categorical variables to numerical variables\n",
    "# df['AuthorId'] = label_encoder.fit_transform(df['AuthorId'])\n",
    "# df['RecipeId'] = label_encoder.fit_transform(df['RecipeId'])\n",
    "\n",
    "# print(df.head(8))\n"
   ]
  },
  {
   "cell_type": "code",
   "execution_count": 42,
   "metadata": {},
   "outputs": [
    {
     "name": "stdout",
     "output_type": "stream",
     "text": [
      "   AuthorId  RecipeId      Time  HighCalories  HighProtein  LowFat  LowSugar   \n",
      "0     18621     19482  0.000104         False        False   False      True  \\\n",
      "1     39673     65072  0.000243         False         True   False     False   \n",
      "2     12422     34512  0.000365         False        False    True     False   \n",
      "3     47179     55433  0.001146         False         True    True      True   \n",
      "4     31110     41089  0.000313         False        False   False      True   \n",
      "5     27146     63565  0.000087         False        False   False      True   \n",
      "6     13080      5445  0.000226          True        False   False     False   \n",
      "7     43562     33611  0.000156         False        False   False     False   \n",
      "\n",
      "   HighFiber  \n",
      "0      False  \n",
      "1       True  \n",
      "2      False  \n",
      "3       True  \n",
      "4      False  \n",
      "5      False  \n",
      "6       True  \n",
      "7      False  \n"
     ]
    }
   ],
   "source": [
    "def drop_highly_correlated_features(df, threshold):\n",
    "    \"\"\"\n",
    "    Drops highly correlated features from a DataFrame based on a given threshold.\n",
    "\n",
    "    Parameters:\n",
    "        df (pandas.DataFrame): The input DataFrame.\n",
    "        threshold (float): The threshold for correlation. Features with absolute correlation\n",
    "                           greater than this threshold will be dropped.\n",
    "\n",
    "    Returns:\n",
    "        pandas.DataFrame: The DataFrame with highly correlated features dropped.\n",
    "    \"\"\"\n",
    "    # Calculate the correlation matrix\n",
    "    correlation_matrix = df.corr()\n",
    "\n",
    "    # Find the highly correlated features\n",
    "    highly_correlated_features = set()\n",
    "    for i in range(len(correlation_matrix.columns)):\n",
    "        for j in range(i):\n",
    "            if abs(correlation_matrix.iloc[i, j]) > threshold:\n",
    "                colname = correlation_matrix.columns[i]\n",
    "                highly_correlated_features.add(colname)\n",
    "\n",
    "    # Drop the highly correlated features\n",
    "    df_selected = df.drop(highly_correlated_features, axis=1)\n",
    "\n",
    "    return df_selected\n",
    "\n",
    "# Example usage\n",
    "df_selected = drop_highly_correlated_features(df, threshold=0.1)\n",
    "print(df_selected.head(8))"
   ]
  },
  {
   "cell_type": "code",
   "execution_count": 39,
   "metadata": {},
   "outputs": [
    {
     "name": "stdout",
     "output_type": "stream",
     "text": [
      "<class 'pandas.core.frame.DataFrame'>\n",
      "RangeIndex: 140195 entries, 0 to 140194\n",
      "Data columns (total 8 columns):\n",
      " #   Column        Non-Null Count   Dtype  \n",
      "---  ------        --------------   -----  \n",
      " 0   AuthorId      140195 non-null  int64  \n",
      " 1   RecipeId      140195 non-null  int64  \n",
      " 2   Time          140195 non-null  float64\n",
      " 3   HighCalories  140195 non-null  bool   \n",
      " 4   HighProtein   140195 non-null  bool   \n",
      " 5   LowFat        140195 non-null  bool   \n",
      " 6   LowSugar      140195 non-null  bool   \n",
      " 7   HighFiber     140195 non-null  bool   \n",
      "dtypes: bool(5), float64(1), int64(2)\n",
      "memory usage: 3.9 MB\n"
     ]
    }
   ],
   "source": [
    "df_selected.info()"
   ]
  }
 ],
 "metadata": {
  "kernelspec": {
   "display_name": "base",
   "language": "python",
   "name": "python3"
  },
  "language_info": {
   "codemirror_mode": {
    "name": "ipython",
    "version": 3
   },
   "file_extension": ".py",
   "mimetype": "text/x-python",
   "name": "python",
   "nbconvert_exporter": "python",
   "pygments_lexer": "ipython3",
   "version": "3.9.13"
  }
 },
 "nbformat": 4,
 "nbformat_minor": 2
}
