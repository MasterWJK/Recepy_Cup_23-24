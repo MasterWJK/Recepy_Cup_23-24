{
 "cells": [
  {
   "cell_type": "code",
   "execution_count": 6,
   "metadata": {},
   "outputs": [],
   "source": [
    "import pandas as pd\n",
    "import numpy as np\n",
    "\n",
    "import matplotlib.pyplot as plt\n",
    "import seaborn as sns\n",
    "\n",
    "# Note: The following do not work with Python 3.12\n",
    "#import sweetviz as sv\n",
    "#import shap\n",
    "#from ydata_profiling import ProfileReport\n"
   ]
  },
  {
   "cell_type": "code",
   "execution_count": 7,
   "metadata": {},
   "outputs": [],
   "source": [
    "seed = 2024\n",
    "\n",
    "# pandas, statsmodels, matplotlib and y_data_profiling rely on numpy's random generator, and thus, we need to set the seed in numpy\n",
    "np.random.seed(seed)"
   ]
  },
  {
   "cell_type": "code",
   "execution_count": 8,
   "metadata": {},
   "outputs": [],
   "source": [
    "# load the data\n",
    "\n",
    "diet = pd.read_csv('data/diet.csv')"
   ]
  },
  {
   "cell_type": "code",
   "execution_count": 9,
   "metadata": {},
   "outputs": [
    {
     "name": "stdout",
     "output_type": "stream",
     "text": [
      "           AuthorId        Diet  Age\n",
      "168659     2207556C  Vegetarian   74\n",
      "206750      338571E  Vegetarian   36\n",
      "4498       1063960D  Vegetarian   23\n",
      "183825     2552022E       Vegan   33\n",
      "177513      240154D  Vegetarian   28\n",
      "16133      1222204E    Omnivore   64\n",
      "23656      1324508B       Vegan   71\n",
      "173830     2321250B    Omnivore   35\n",
      "239673      620403B    Omnivore   67\n",
      "146412  2002298125D  Vegetarian   41\n"
     ]
    }
   ],
   "source": [
    "# have a look at the data and its attributes\n",
    "print(diet.sample(10))\n",
    "\n",
    "# check if columns are properly named\n",
    "# ---> yes"
   ]
  },
  {
   "cell_type": "code",
   "execution_count": 10,
   "metadata": {},
   "outputs": [
    {
     "name": "stdout",
     "output_type": "stream",
     "text": [
      "<class 'pandas.core.frame.DataFrame'>\n",
      "RangeIndex: 271907 entries, 0 to 271906\n",
      "Data columns (total 3 columns):\n",
      " #   Column    Non-Null Count   Dtype \n",
      "---  ------    --------------   ----- \n",
      " 0   AuthorId  271907 non-null  object\n",
      " 1   Diet      271906 non-null  object\n",
      " 2   Age       271907 non-null  int64 \n",
      "dtypes: int64(1), object(2)\n",
      "memory usage: 6.2+ MB\n",
      "None\n",
      "AuthorId    False\n",
      "Diet         True\n",
      "Age         False\n",
      "dtype: bool\n"
     ]
    }
   ],
   "source": [
    "# get a general overview over data, check for missing values, etc.\n",
    "print(diet.info())\n",
    "\n",
    "print(diet.isna().any())\n",
    "\n",
    "# --> we have 271907 rows, and Diet has one missing value"
   ]
  },
  {
   "cell_type": "code",
   "execution_count": 11,
   "metadata": {},
   "outputs": [
    {
     "data": {
      "text/plain": [
       "Text(0.5, 1.0, 'Died distribution')"
      ]
     },
     "execution_count": 11,
     "metadata": {},
     "output_type": "execute_result"
    },
    {
     "data": {
      "image/png": "[encoded data removed]",
      "text/plain": [
       "<Figure size 640x480 with 1 Axes>"
      ]
     },
     "metadata": {},
     "output_type": "display_data"
    }
   ],
   "source": [
    "counts = diet['Diet'].value_counts()\n",
    "\n",
    "plt.bar(counts.index, counts.values)\n",
    "plt.xticks(rotation=45)\n",
    "for i, v in enumerate(counts.values):\n",
    "    plt.text(i, v, \"{:.2f}%\".format(v / len(diet) * 100), ha=\"center\", va=\"bottom\", fontsize=12)\n",
    "plt.title('Died distribution')"
   ]
  },
  {
   "cell_type": "code",
   "execution_count": 12,
   "metadata": {},
   "outputs": [
    {
     "name": "stdout",
     "output_type": "stream",
     "text": [
      "['Vegetarian' 'Vegan' 'Omnivore' nan]\n"
     ]
    }
   ],
   "source": [
    "# Clean data\n",
    "# replace missing value in Diet with \"Omnivore\"\n",
    "\n",
    "print(diet[\"Diet\"].unique())\n",
    "diet[\"Diet\"] = diet[\"Diet\"].fillna(\"Omnivore\")\n",
    "\n",
    "\n"
   ]
  },
  {
   "cell_type": "code",
   "execution_count": 13,
   "metadata": {},
   "outputs": [],
   "source": [
    "# Change data type of Diet to category\n",
    "diet[\"Diet\"] = diet[\"Diet\"].astype(\"category\")\n"
   ]
  },
  {
   "cell_type": "code",
   "execution_count": 14,
   "metadata": {},
   "outputs": [
    {
     "data": {
      "text/html": [
       "<div>\n",
       "<style scoped>\n",
       "    .dataframe tbody tr th:only-of-type {\n",
       "        vertical-align: middle;\n",
       "    }\n",
       "\n",
       "    .dataframe tbody tr th {\n",
       "        vertical-align: top;\n",
       "    }\n",
       "\n",
       "    .dataframe thead th {\n",
       "        text-align: right;\n",
       "    }\n",
       "</style>\n",
       "<table border=\"1\" class=\"dataframe\">\n",
       "  <thead>\n",
       "    <tr style=\"text-align: right;\">\n",
       "      <th></th>\n",
       "      <th>AuthorId</th>\n",
       "      <th>Diet</th>\n",
       "      <th>Age</th>\n",
       "    </tr>\n",
       "  </thead>\n",
       "  <tbody>\n",
       "    <tr>\n",
       "      <th>0</th>\n",
       "      <td>10000120E</td>\n",
       "      <td>Vegetarian</td>\n",
       "      <td>46</td>\n",
       "    </tr>\n",
       "    <tr>\n",
       "      <th>1</th>\n",
       "      <td>1000014D</td>\n",
       "      <td>Vegan</td>\n",
       "      <td>18</td>\n",
       "    </tr>\n",
       "    <tr>\n",
       "      <th>2</th>\n",
       "      <td>1000015A</td>\n",
       "      <td>Vegetarian</td>\n",
       "      <td>58</td>\n",
       "    </tr>\n",
       "    <tr>\n",
       "      <th>3</th>\n",
       "      <td>1000016E</td>\n",
       "      <td>Vegetarian</td>\n",
       "      <td>32</td>\n",
       "    </tr>\n",
       "    <tr>\n",
       "      <th>4</th>\n",
       "      <td>1000027E</td>\n",
       "      <td>Vegan</td>\n",
       "      <td>61</td>\n",
       "    </tr>\n",
       "    <tr>\n",
       "      <th>5</th>\n",
       "      <td>1000029E</td>\n",
       "      <td>Vegan</td>\n",
       "      <td>39</td>\n",
       "    </tr>\n",
       "    <tr>\n",
       "      <th>6</th>\n",
       "      <td>1000036C</td>\n",
       "      <td>Vegetarian</td>\n",
       "      <td>50</td>\n",
       "    </tr>\n",
       "    <tr>\n",
       "      <th>7</th>\n",
       "      <td>1000048E</td>\n",
       "      <td>Vegetarian</td>\n",
       "      <td>44</td>\n",
       "    </tr>\n",
       "    <tr>\n",
       "      <th>8</th>\n",
       "      <td>1000079B</td>\n",
       "      <td>Vegetarian</td>\n",
       "      <td>34</td>\n",
       "    </tr>\n",
       "    <tr>\n",
       "      <th>9</th>\n",
       "      <td>1000107C</td>\n",
       "      <td>Omnivore</td>\n",
       "      <td>62</td>\n",
       "    </tr>\n",
       "  </tbody>\n",
       "</table>\n",
       "</div>"
      ],
      "text/plain": [
       "    AuthorId        Diet  Age\n",
       "0  10000120E  Vegetarian   46\n",
       "1   1000014D       Vegan   18\n",
       "2   1000015A  Vegetarian   58\n",
       "3   1000016E  Vegetarian   32\n",
       "4   1000027E       Vegan   61\n",
       "5   1000029E       Vegan   39\n",
       "6   1000036C  Vegetarian   50\n",
       "7   1000048E  Vegetarian   44\n",
       "8   1000079B  Vegetarian   34\n",
       "9   1000107C    Omnivore   62"
      ]
     },
     "execution_count": 14,
     "metadata": {},
     "output_type": "execute_result"
    }
   ],
   "source": [
    "#Check\n",
    "\n",
    "diet.head(10)\n"
   ]
  },
  {
   "cell_type": "code",
   "execution_count": 15,
   "metadata": {},
   "outputs": [
    {
     "name": "stdout",
     "output_type": "stream",
     "text": [
      "<class 'pandas.core.frame.DataFrame'>\n",
      "RangeIndex: 271907 entries, 0 to 271906\n",
      "Data columns (total 3 columns):\n",
      " #   Column    Non-Null Count   Dtype   \n",
      "---  ------    --------------   -----   \n",
      " 0   AuthorId  271907 non-null  object  \n",
      " 1   Diet      271907 non-null  category\n",
      " 2   Age       271907 non-null  int64   \n",
      "dtypes: category(1), int64(1), object(1)\n",
      "memory usage: 4.4+ MB\n"
     ]
    }
   ],
   "source": [
    "#Check\n",
    "diet.info()\n"
   ]
  },
  {
   "cell_type": "code",
   "execution_count": 20,
   "metadata": {},
   "outputs": [
    {
     "name": "stdout",
     "output_type": "stream",
     "text": [
      "Outliers in 'Age' column:\n",
      "Empty DataFrame\n",
      "Columns: [AuthorId, Diet, Age]\n",
      "Index: []\n",
      "Number of outliers in 'Age' column:\n",
      "0\n",
      "Percentage of outliers in 'Age' column:\n",
      "0.0\n",
      "Min age: 18\n",
      "Max age: 79\n"
     ]
    }
   ],
   "source": [
    "# Outlier detection\n",
    "\n",
    "def detect_outliers_iqr(data, column, threshold=1.5):\n",
    "    \"\"\"\n",
    "    Parameters:\n",
    "    - data (DataFrame): The input DataFrame.\n",
    "    - column (str): The name of the column to detect outliers in.\n",
    "    - threshold (int): The number of interquartile ranges above the third quartile\n",
    "\n",
    "    Returns:\n",
    "    - outliers (DataFrame): A DataFrame containing the outliers found in the specified column.\n",
    "\n",
    "    The quartiles could be modified to set a different threshold for outliers detection.\n",
    "    For example, to detect outliers that are 3 times the interquartile range below the first quartile\n",
    "    \"\"\"\n",
    "    # Calculate Q1, Q3 and IQR\n",
    "    q1 = np.percentile(data[column], 25)\n",
    "    q3 = np.percentile(data[column], 75)\n",
    "    iqr = q3 - q1\n",
    "    lower_bound = q1 - threshold * iqr\n",
    "    upper_bound = q3 + threshold * iqr\n",
    "    # outlier is below the lower bound or above the upper bound\n",
    "    outliers = data[(data[column] < lower_bound) | (data[column] > upper_bound)]\n",
    "    return outliers\n",
    "\n",
    "# Detect outliers for the 'Time' column\n",
    "outliers_age = detect_outliers_iqr(diet, 'Age')\n",
    "print(\"Outliers in 'Age' column:\")\n",
    "print(outliers_age)\n",
    "\n",
    "# how many outliers are there?\n",
    "print(\"Number of outliers in 'Age' column:\")\n",
    "print(len(outliers_age))\n",
    "# how much compared to the total number of rows?\n",
    "print(\"Percentage of outliers in 'Age' column:\")\n",
    "print(len(outliers_age) / len(diet) * 100)\n",
    "\n",
    "print(\"Min age:\",diet[\"Age\"].min())\n",
    "print(\"Max age:\", diet[\"Age\"].max())\n"
   ]
  }
 ],
 "metadata": {
  "kernelspec": {
   "display_name": "Python 3.12.0 64-bit",
   "language": "python",
   "name": "python3"
  },
  "language_info": {
   "codemirror_mode": {
    "name": "ipython",
    "version": 3
   },
   "file_extension": ".py",
   "mimetype": "text/x-python",
   "name": "python",
   "nbconvert_exporter": "python",
   "pygments_lexer": "ipython3",
   "version": "3.12.0"
  },
  "orig_nbformat": 4,
  "vscode": {
   "interpreter": {
    "hash": "aee8b7b246df8f9039afb4144a1f6fd8d2ca17a180786b69acc140d282b71a49"
   }
  }
 },
 "nbformat": 4,
 "nbformat_minor": 2
}
