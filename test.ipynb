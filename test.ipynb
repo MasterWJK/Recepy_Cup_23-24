{
 "cells": [
  {
   "cell_type": "code",
   "execution_count": 17,
   "metadata": {},
   "outputs": [],
   "source": [
    "import pandas as pd\n",
    "import numpy as np\n",
    "\n",
    "import matplotlib.pyplot as plt\n",
    "import seaborn as sns\n",
    "\n",
    "# Note: The following do not work with Python 3.12\n",
    "#import sweetviz as sv\n",
    "#import shap\n",
    "#from ydata_profiling import ProfileReport\n"
   ]
  },
  {
   "cell_type": "code",
   "execution_count": 7,
   "metadata": {},
   "outputs": [],
   "source": [
    "seed = 2024\n",
    "\n",
    "# pandas, statsmodels, matplotlib and y_data_profiling rely on numpy's random generator, and thus, we need to set the seed in numpy\n",
    "np.random.seed(seed)"
   ]
  },
  {
   "cell_type": "code",
   "execution_count": 70,
   "metadata": {},
   "outputs": [],
   "source": [
    "# load the data\n",
    "file_path = \"/Users/jacqueline.bisquolm/Documents/TUM Master/1. Semester/Business Analytics & Mashine learning/Analytics Cup/Recepy_Cup_23-24/analytics_cup_2324_raw_gYELgDZ/diet.csv\"\n",
    "diet = pd.read_csv(file_path)"
   ]
  },
  {
   "cell_type": "code",
   "execution_count": 71,
   "metadata": {},
   "outputs": [
    {
     "name": "stdout",
     "output_type": "stream",
     "text": [
      "           AuthorId        Diet  Age\n",
      "10079      1144718B  Vegetarian   70\n",
      "97228   2000715263C  Vegetarian   39\n",
      "137431  2002046847B    Omnivore   64\n",
      "49163      1695689D  Vegetarian   28\n",
      "142498  2002197557B    Omnivore   36\n",
      "69499   1803556008A  Vegetarian   53\n",
      "99946   2000873280A    Omnivore   34\n",
      "262421      878744C  Vegetarian   22\n",
      "229775       52678B  Vegetarian   33\n",
      "199760     2932648C       Vegan   79\n"
     ]
    }
   ],
   "source": [
    "# have a look at the data and its attributes\n",
    "print(diet.sample(10))\n",
    "\n",
    "# check if columns are properly named\n",
    "# ---> yes"
   ]
  },
  {
   "cell_type": "code",
   "execution_count": 72,
   "metadata": {},
   "outputs": [
    {
     "name": "stdout",
     "output_type": "stream",
     "text": [
      "<class 'pandas.core.frame.DataFrame'>\n",
      "RangeIndex: 271907 entries, 0 to 271906\n",
      "Data columns (total 3 columns):\n",
      " #   Column    Non-Null Count   Dtype \n",
      "---  ------    --------------   ----- \n",
      " 0   AuthorId  271907 non-null  object\n",
      " 1   Diet      271906 non-null  object\n",
      " 2   Age       271907 non-null  int64 \n",
      "dtypes: int64(1), object(2)\n",
      "memory usage: 6.2+ MB\n",
      "None\n",
      "AuthorId    False\n",
      "Diet         True\n",
      "Age         False\n",
      "dtype: bool\n"
     ]
    }
   ],
   "source": [
    "# get a general overview over data, check for missing values, etc.\n",
    "print(diet.info())\n",
    "\n",
    "print(diet.isna().any())\n",
    "\n",
    "# --> we have 271907 rows, and Diet has one missing value"
   ]
  },
  {
   "cell_type": "code",
   "execution_count": 73,
   "metadata": {},
   "outputs": [
    {
     "name": "stdout",
     "output_type": "stream",
     "text": [
      "['Vegetarian' 'Vegan' 'Omnivore' nan]\n"
     ]
    }
   ],
   "source": [
    "# Clean data\n",
    "# replace missing value in Diet with \"Omnivore\"\n",
    "\n",
    "print(diet[\"Diet\"].unique())\n",
    "diet[\"Diet\"] = diet[\"Diet\"].fillna(\"Omnivore\")\n",
    "\n"
   ]
  },
  {
   "cell_type": "code",
   "execution_count": 74,
   "metadata": {},
   "outputs": [],
   "source": [
    "# Change data type of Diet to category\n",
    "diet[\"Diet\"] = diet[\"Diet\"].astype(\"category\")\n"
   ]
  },
  {
   "cell_type": "code",
   "execution_count": 75,
   "metadata": {},
   "outputs": [
    {
     "name": "stdout",
     "output_type": "stream",
     "text": [
      "271907\n"
     ]
    }
   ],
   "source": [
    "# Change ID\n",
    "diet[\"AuthorId\"] = diet[\"AuthorId\"].str[:-1]\n",
    "diet[\"AuthorId\"] = diet[\"AuthorId\"].astype(\"int\")\n",
    "\n",
    "#Check\n",
    "print(len(pd.unique(diet['AuthorId'])))\n"
   ]
  },
  {
   "cell_type": "code",
   "execution_count": 76,
   "metadata": {},
   "outputs": [
    {
     "data": {
      "text/html": [
       "<div>\n",
       "<style scoped>\n",
       "    .dataframe tbody tr th:only-of-type {\n",
       "        vertical-align: middle;\n",
       "    }\n",
       "\n",
       "    .dataframe tbody tr th {\n",
       "        vertical-align: top;\n",
       "    }\n",
       "\n",
       "    .dataframe thead th {\n",
       "        text-align: right;\n",
       "    }\n",
       "</style>\n",
       "<table border=\"1\" class=\"dataframe\">\n",
       "  <thead>\n",
       "    <tr style=\"text-align: right;\">\n",
       "      <th></th>\n",
       "      <th>AuthorId</th>\n",
       "      <th>Diet</th>\n",
       "      <th>Age</th>\n",
       "    </tr>\n",
       "  </thead>\n",
       "  <tbody>\n",
       "    <tr>\n",
       "      <th>0</th>\n",
       "      <td>10000120</td>\n",
       "      <td>Vegetarian</td>\n",
       "      <td>46</td>\n",
       "    </tr>\n",
       "    <tr>\n",
       "      <th>1</th>\n",
       "      <td>1000014</td>\n",
       "      <td>Vegan</td>\n",
       "      <td>18</td>\n",
       "    </tr>\n",
       "    <tr>\n",
       "      <th>2</th>\n",
       "      <td>1000015</td>\n",
       "      <td>Vegetarian</td>\n",
       "      <td>58</td>\n",
       "    </tr>\n",
       "    <tr>\n",
       "      <th>3</th>\n",
       "      <td>1000016</td>\n",
       "      <td>Vegetarian</td>\n",
       "      <td>32</td>\n",
       "    </tr>\n",
       "    <tr>\n",
       "      <th>4</th>\n",
       "      <td>1000027</td>\n",
       "      <td>Vegan</td>\n",
       "      <td>61</td>\n",
       "    </tr>\n",
       "    <tr>\n",
       "      <th>5</th>\n",
       "      <td>1000029</td>\n",
       "      <td>Vegan</td>\n",
       "      <td>39</td>\n",
       "    </tr>\n",
       "    <tr>\n",
       "      <th>6</th>\n",
       "      <td>1000036</td>\n",
       "      <td>Vegetarian</td>\n",
       "      <td>50</td>\n",
       "    </tr>\n",
       "    <tr>\n",
       "      <th>7</th>\n",
       "      <td>1000048</td>\n",
       "      <td>Vegetarian</td>\n",
       "      <td>44</td>\n",
       "    </tr>\n",
       "    <tr>\n",
       "      <th>8</th>\n",
       "      <td>1000079</td>\n",
       "      <td>Vegetarian</td>\n",
       "      <td>34</td>\n",
       "    </tr>\n",
       "    <tr>\n",
       "      <th>9</th>\n",
       "      <td>1000107</td>\n",
       "      <td>Omnivore</td>\n",
       "      <td>62</td>\n",
       "    </tr>\n",
       "  </tbody>\n",
       "</table>\n",
       "</div>"
      ],
      "text/plain": [
       "   AuthorId        Diet  Age\n",
       "0  10000120  Vegetarian   46\n",
       "1   1000014       Vegan   18\n",
       "2   1000015  Vegetarian   58\n",
       "3   1000016  Vegetarian   32\n",
       "4   1000027       Vegan   61\n",
       "5   1000029       Vegan   39\n",
       "6   1000036  Vegetarian   50\n",
       "7   1000048  Vegetarian   44\n",
       "8   1000079  Vegetarian   34\n",
       "9   1000107    Omnivore   62"
      ]
     },
     "execution_count": 76,
     "metadata": {},
     "output_type": "execute_result"
    }
   ],
   "source": [
    "#Check\n",
    "\n",
    "diet.head(10)\n"
   ]
  },
  {
   "cell_type": "code",
   "execution_count": 77,
   "metadata": {},
   "outputs": [
    {
     "name": "stdout",
     "output_type": "stream",
     "text": [
      "<class 'pandas.core.frame.DataFrame'>\n",
      "RangeIndex: 271907 entries, 0 to 271906\n",
      "Data columns (total 3 columns):\n",
      " #   Column    Non-Null Count   Dtype   \n",
      "---  ------    --------------   -----   \n",
      " 0   AuthorId  271907 non-null  int64   \n",
      " 1   Diet      271907 non-null  category\n",
      " 2   Age       271907 non-null  int64   \n",
      "dtypes: category(1), int64(2)\n",
      "memory usage: 4.4 MB\n"
     ]
    }
   ],
   "source": [
    "#Check\n",
    "diet.info()\n"
   ]
  }
 ],
 "metadata": {
  "kernelspec": {
   "display_name": "Python 3.12.0 64-bit",
   "language": "python",
   "name": "python3"
  },
  "language_info": {
   "codemirror_mode": {
    "name": "ipython",
    "version": 3
   },
   "file_extension": ".py",
   "mimetype": "text/x-python",
   "name": "python",
   "nbconvert_exporter": "python",
   "pygments_lexer": "ipython3",
   "version": "3.12.0"
  },
  "orig_nbformat": 4,
  "vscode": {
   "interpreter": {
    "hash": "aee8b7b246df8f9039afb4144a1f6fd8d2ca17a180786b69acc140d282b71a49"
   }
  }
 },
 "nbformat": 4,
 "nbformat_minor": 2
}
